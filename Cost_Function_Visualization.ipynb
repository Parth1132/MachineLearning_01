{
  "nbformat": 4,
  "nbformat_minor": 0,
  "metadata": {
    "colab": {
      "provenance": [],
      "authorship_tag": "ABX9TyMCuO6DS5HaTkhsBHQHNYox",
      "include_colab_link": true
    },
    "kernelspec": {
      "name": "python3",
      "display_name": "Python 3"
    },
    "language_info": {
      "name": "python"
    }
  },
  "cells": [
    {
      "cell_type": "markdown",
      "metadata": {
        "id": "view-in-github",
        "colab_type": "text"
      },
      "source": [
        "<a href=\"https://colab.research.google.com/github/Parth1132/MachineLearning_01/blob/main/Cost_Function_Visualization.ipynb\" target=\"_parent\"><img src=\"https://colab.research.google.com/assets/colab-badge.svg\" alt=\"Open In Colab\"/></a>"
      ]
    },
    {
      "cell_type": "code",
      "execution_count": null,
      "metadata": {
        "id": "tuI9MGCaViz-"
      },
      "outputs": [],
      "source": [
        "import math, copy\n",
        "import numpy as np\n",
        "import matplotlib.pyplot as plt\n",
        "plt.style.use('classic')"
      ]
    },
    {
      "cell_type": "markdown",
      "source": [
        "A house with 1000 square feet sold for Dollar-300000 and a house with 2000 sq.ft sold for Dollar-500000"
      ],
      "metadata": {
        "id": "j9Cemm8-AKVZ"
      }
    },
    {
      "cell_type": "code",
      "source": [
        "#load our dataset\n",
        "\n",
        "x_train = np.array([1.0, 2.0 ])  # --------features\n",
        "\n",
        "y_train = np.array([300.0, 500.0]) #----target value"
      ],
      "metadata": {
        "id": "lTIIuUBkAJOW"
      },
      "execution_count": null,
      "outputs": []
    },
    {
      "cell_type": "code",
      "source": [
        "#function to calculate cost\n",
        "\n",
        "def compute_cost(x, y, w, b):\n",
        "\n",
        "  m = x.shape[0]\n",
        "  cost = 0\n",
        "\n",
        "  for i in range(m):\n",
        "    f_wb = w * x[i] + b\n",
        "    cost = cost + (f_wb - y[i])**2\n",
        "    total_cost = 1 / (2 * m) * cost\n",
        "\n",
        "  return total_cost"
      ],
      "metadata": {
        "id": "y-6yG-MEA2Hi"
      },
      "execution_count": null,
      "outputs": []
    },
    {
      "cell_type": "markdown",
      "source": [
        "You will implement gradient descent algorithm for one feature. You will need three functions.\n",
        "- `compute_gradient`\n",
        "- `compute_cost`  \n",
        "- `gradient_descent`\n",
        "\n",
        "Conventions:\n",
        "- The naming of python variables containing partial derivatives follows this pattern,$\\frac{\\partial J(w,b)}{\\partial b}$  will be `dj_db`.\n",
        "- w.r.t is With Respect To, as in partial derivative of $J(wb)$ With Respect To $b$.\n"
      ],
      "metadata": {
        "id": "NqoSkMPnRVBs"
      }
    },
    {
      "cell_type": "code",
      "source": [
        "def compute_gradient(x, y, w, b):\n",
        "  \"\"\"\n",
        "  comptes the gradient of linear regression\n",
        "  x (ndarray (m,)): Data, m examples\n",
        "  y (ndarray (m,)): target values\n",
        "  w,b (scalar) : model parameters\n",
        "\n",
        "  returns\n",
        "  dj_dw (scalar) : The gradient of the cost w.r.t the parameter w\n",
        "  dj_db (scalar) : The gradient of the cost w.r.t the parameter b\n",
        "\n",
        "  \"\"\"\n",
        "\n",
        "  #number of training examples\n",
        "\n",
        "  m = x.shape[0]\n",
        "  dj_dw = 0\n",
        "  dj_db = 0\n",
        "\n",
        "  for i in range(m):\n",
        "    f_wb = w * x[i] + b\n",
        "    dj_dw_i = (f_wb - y[i]) * x[i]\n",
        "    dj_db_i = f_wb - y[i]\n",
        "    dj_db += dj_db_i\n",
        "    dj_dw += dj_dw_i\n",
        "    dj_dw = dj_dw / m\n",
        "    dj_db = dj_db / m\n",
        "\n",
        "    return dj_dw, dj_db\n",
        "\n",
        "\n",
        "\n"
      ],
      "metadata": {
        "id": "317HYZzJSL5c"
      },
      "execution_count": null,
      "outputs": []
    },
    {
      "cell_type": "code",
      "source": [
        "# Training loop\n",
        "num_iterations = 100\n",
        "learning_rate = 0.01\n",
        "w = 0.0  # Initial guess for weight\n",
        "b = 0.0  # Initial guess for bias\n",
        "cost_history = []"
      ],
      "metadata": {
        "id": "20dNAYMTfUIk"
      },
      "execution_count": null,
      "outputs": []
    },
    {
      "cell_type": "code",
      "source": [
        "for i in range(num_iterations):\n",
        "    dj_dw, dj_db = compute_gradient(x_train, y_train, w, b)\n",
        "    w = w - learning_rate * dj_dw\n",
        "    b = b - learning_rate * dj_db\n",
        "    cost = compute_cost(x_train, y_train, w, b)\n",
        "    cost_history.append(cost)\n"
      ],
      "metadata": {
        "id": "T-SuUE4gfWPc"
      },
      "execution_count": null,
      "outputs": []
    },
    {
      "cell_type": "code",
      "source": [
        "plt.figure()\n",
        "plt.plot(range(num_iterations), cost_history, marker='o')\n",
        "plt.xlabel('Iterations')\n",
        "plt.ylabel('Cost')\n",
        "plt.title('Cost over Iterations')\n",
        "plt.grid(True)\n",
        "plt.show()"
      ],
      "metadata": {
        "colab": {
          "base_uri": "https://localhost:8080/",
          "height": 470
        },
        "id": "qNcDCBIMftAm",
        "outputId": "c0b5dda9-6196-44c3-e415-6e917ee9d57e"
      },
      "execution_count": null,
      "outputs": [
        {
          "output_type": "display_data",
          "data": {
            "text/plain": [
              "<Figure size 640x480 with 1 Axes>"
            ],
            "image/png": "[encoded data removed]"
          },
          "metadata": {}
        }
      ]
    }
  ]
}